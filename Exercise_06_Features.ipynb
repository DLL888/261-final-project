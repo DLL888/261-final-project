{
  "nbformat": 4,
  "nbformat_minor": 0,
  "metadata": {
    "colab": {
      "provenance": [],
      "include_colab_link": true
    },
    "kernelspec": {
      "name": "python3",
      "display_name": "Python 3"
    },
    "language_info": {
      "name": "python"
    }
  },
  "cells": [
    {
      "cell_type": "markdown",
      "metadata": {
        "id": "view-in-github",
        "colab_type": "text"
      },
      "source": [
        "<a href=\"https://colab.research.google.com/github/DLL888/261-final-project/blob/main/Exercise_06_Features.ipynb\" target=\"_parent\"><img src=\"https://colab.research.google.com/assets/colab-badge.svg\" alt=\"Open In Colab\"/></a>"
      ]
    },
    {
      "cell_type": "markdown",
      "source": [
        "##Feature Extraction And Analysis Exercise\n",
        "\n",
        "In today's exercise, you will pre-process a few cat images, extract HOG features from them, and compare those HOG feature vectors using three different distance metrics.\n",
        "\n",
        "##TO DO's\n",
        "\n",
        "**1) Pre-process the images to be all the same size**\n",
        "\n",
        "Start by calculating the ratio of the short side of the image relative to the desired output size (M). Use this ratio to rescale the image so that the shortest side is equal to M.\n",
        "\n",
        "Next, center-crop the image to size M on the other dimension. The result should be a square image size MxM.\n",
        "\n",
        "**2) Compute three kinds of distance functions using the HOG features**\n",
        "\n",
        "For each pair of images, fill in the corresponding distance matrix with the pairwise distance calculation. Use the built in functions provided (mean_squared_error, wasserstein_distance, cosine).\n",
        "\n",
        "**3) Display the closest and furthest pairs for each distance calculation**\n",
        "\n",
        "Use nanargmin and nanargmax to get the smallest and largest distance values for each distance metric. Then calculate the corresponding row and column for each index, and display those image pairs.\n",
        "\n",
        "**Extra Credit**\n",
        "\n",
        "Try playing around with various image transformations to see how they might impact the computed distance values. Also experiment with different parameters for your HOG feature vector. Try swapping in other images or feature vectors as well. Note that HOG + RMSE/Cosine is very sensitive to image alignment."
      ],
      "metadata": {
        "id": "jEX66ZM9-Qwc"
      }
    },
    {
      "cell_type": "code",
      "source": [
        "import numpy as np\n",
        "import matplotlib.pyplot as plt\n",
        "from PIL import Image\n",
        "import urllib\n",
        "\n",
        "from skimage.exposure import rescale_intensity\n",
        "from skimage.transform import rescale, rotate\n",
        "from skimage.color import rgb2gray\n",
        "from skimage.feature import hog\n",
        "from sklearn.metrics import mean_squared_error\n",
        "from scipy.stats import wasserstein_distance\n",
        "from scipy.spatial.distance import cosine"
      ],
      "metadata": {
        "id": "nve-t2rd-TaN"
      },
      "execution_count": null,
      "outputs": []
    },
    {
      "cell_type": "code",
      "source": [
        "# read grayscale image with intensity range between 0-1\n",
        "def read_image(in_path):\n",
        "    img = np.array(Image.open(urllib.request.urlopen(in_path)))\n",
        "\n",
        "    # convert to floating point image with intensity [0, 1]\n",
        "    if np.max(img) > 1:\n",
        "        img = img.astype(np.float32) / 255.0\n",
        "\n",
        "    # convert to grayscale\n",
        "    if len(img.shape) > 2:\n",
        "        img = rgb2gray(img)\n",
        "\n",
        "    return img\n",
        "\n",
        "def rescale_image(img):\n",
        "  standard = 256\n",
        "  ## TODO 1: rescale short side to standard size, then crop center\n",
        "  width, height = img.shape\n",
        "\n",
        "  return img"
      ],
      "metadata": {
        "id": "eV6LDv7_-ar-"
      },
      "execution_count": null,
      "outputs": []
    },
    {
      "cell_type": "code",
      "source": [
        "impaths = ['https://github.com/W281/fileRepository/blob/main/cat_1.jpg?raw=true',\n",
        "           'https://github.com/W281/fileRepository/blob/main/cat_2.jpg?raw=true',\n",
        "           'https://github.com/W281/fileRepository/blob/main/cat_3.jpg?raw=true',\n",
        "           'https://github.com/W281/fileRepository/blob/main/cat_4.jpg?raw=true',\n",
        "           'https://github.com/W281/fileRepository/blob/main/cat_5.jpg?raw=true',\n",
        "           'https://github.com/W281/fileRepository/blob/main/cat_6.jpg?raw=true']\n",
        "\n",
        "fig, ax = plt.subplots(nrows=2, ncols=len(impaths), figsize=(9,5))\n",
        "images = []\n",
        "features = []\n",
        "\n",
        "for i, impath in enumerate(impaths):\n",
        "  im_processed = rescale_image(read_image(impath))\n",
        "  ## TODO Extra Credit: try different image transformations\n",
        "  #if i == 3:\n",
        "    # im_processed = rotate(im_processed, -90)\n",
        "    # im_processed = im_processed[:, ::-1]\n",
        "    # im_processed = rescale_intensity(im_processed, (0,1))\n",
        "  images.append(im_processed)\n",
        "  f, h = hog(im_processed, orientations=4, pixels_per_cell=(20, 20), visualize=True)\n",
        "  features.append(f)\n",
        "  ax[0,i].imshow(im_processed, cmap='gray', vmin=0, vmax=1)\n",
        "  ax[0,i].axis('off')\n",
        "  ax[0,i].set_title('img_{}'.format(i))\n",
        "  ax[1,i].imshow(10*h, cmap='gray', vmin=0, vmax=0.5)\n",
        "  ax[1,i].axis('off')\n",
        "plt.tight_layout()\n",
        "plt.show()\n",
        "\n",
        "plt.figure(figsize=(10, 5))\n",
        "for f in features:\n",
        "  plt.plot(f, alpha=0.25)\n",
        "plt.title(\"HOG Feature Vector Plot\")\n",
        "plt.xlabel(\"Feature Position Index\")\n",
        "plt.ylabel(\"Feature Value\")\n",
        "plt.legend(['img_{}'.format(i) for i in range(len(impaths))])\n",
        "plt.show()"
      ],
      "metadata": {
        "id": "wohtIsvA-xX8"
      },
      "execution_count": null,
      "outputs": []
    },
    {
      "cell_type": "code",
      "source": [
        "# compute distances\n",
        "N = len(features)\n",
        "features = np.array(features)\n",
        "dist_rmse = np.nan * np.ones((N, N))\n",
        "dist_wass = np.nan * np.ones((N, N))\n",
        "dist_cosn = np.nan * np.ones((N, N))\n",
        "## TODO 2: fill in the pairwise distance values for each distance matrix\n",
        "\n",
        "fig, ax = plt.subplots(nrows=1, ncols=3, figsize=(15,5))\n",
        "for fi, (label, distval) in enumerate(zip(['RMSE', 'Wasserstein', 'Cosine'], [dist_rmse, dist_wass, dist_cosn])):\n",
        "  if label == 'Cosine': sf=1\n",
        "  else: sf=10\n",
        "\n",
        "  ax[fi].matshow(sf*distval, cmap=plt.cm.Greens, alpha=0.5, vmin=0, vmax=1)\n",
        "  for i in range(distval.shape[0]):\n",
        "      for j in range(distval.shape[1]):\n",
        "          ax[fi].text(x=j, y=i, s=['{:.3f}'.format(sf*distval[i, j]) if not np.isnan(distval[i,j]) else ''][0], va='center', ha='center', size='medium')\n",
        "  ax[fi].set_xlabel('Img Index', fontsize=12)\n",
        "  ax[fi].set_ylabel('Img Index', fontsize=12)\n",
        "  ax[fi].set_title('{}x {} Distance Matrix'.format(sf,label), fontsize=12)\n",
        "\n",
        "plt.show()\n"
      ],
      "metadata": {
        "id": "nx1AYETWELHS"
      },
      "execution_count": null,
      "outputs": []
    },
    {
      "cell_type": "code",
      "source": [
        "for label, distval in zip(['RMSE', 'Wasserstein', 'Cosine'], [dist_rmse, dist_wass, dist_cosn]):\n",
        "  ## TODO 3: find the min and max distance for each metric and calculate the corresponding row and column\n",
        "  ## (see format below: closest_pair = [ix1, ix2]; furthest_pair = [ix1, ix2]\n",
        "\n",
        "  #print(\"{}:\\nclosest {}\\nfurthest {}\\n\".format(label, closest_pair, furthest_pair))\n",
        "\n",
        "  fig, ax = plt.subplots(nrows=2, ncols=2)\n",
        "  fig.suptitle(label)\n",
        "  ax[0,0].set_title(\"closest {}\".format(closest_pair))\n",
        "  ax[0,0].imshow(images[closest_pair[0]], cmap='gray', vmin=0, vmax=1)\n",
        "  ax[1,0].imshow(images[closest_pair[1]], cmap='gray', vmin=0, vmax=1)\n",
        "  ax[0,1].set_title(\"furthest {}\".format(furthest_pair))\n",
        "  ax[0,1].imshow(images[furthest_pair[0]], cmap='gray', vmin=0, vmax=1)\n",
        "  ax[1,1].imshow(images[furthest_pair[1]], cmap='gray', vmin=0, vmax=1)\n",
        "  for axrow in range(2):\n",
        "    for axcol in range(2):\n",
        "      ax[axrow, axcol].set_axis_off()\n",
        "  plt.show()"
      ],
      "metadata": {
        "id": "Q2UmU_EbjKy9"
      },
      "execution_count": null,
      "outputs": []
    }
  ]
}